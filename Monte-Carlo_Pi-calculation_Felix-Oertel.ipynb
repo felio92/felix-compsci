{
 "cells": [
  {
   "cell_type": "markdown",
   "metadata": {},
   "source": [
    "# Monte Carlo Simulation of $\\pi$"
   ]
  },
  {
   "cell_type": "code",
   "execution_count": null,
   "metadata": {},
   "outputs": [],
   "source": [
    "%matplotlib inline\n",
    "from numpy.random import random as random\n",
    "from numpy import sqrt as sqrt\n",
    "from numpy import pi as pi\n",
    "import matplotlib.pyplot as plt"
   ]
  },
  {
   "cell_type": "code",
   "execution_count": null,
   "metadata": {},
   "outputs": [],
   "source": [
    "def indicator(x,y,r):\n",
    "    if x**2+y**2<=r**2:\n",
    "        return 1\n",
    "    else:\n",
    "        return 0"
   ]
  },
  {
   "cell_type": "code",
   "execution_count": null,
   "metadata": {},
   "outputs": [],
   "source": [
    "def approx_pi(n,r=1.0):\n",
    "    points_array=[(r*random(),r*random()) for _ in range(n)]\n",
    "    indicator_list=[indicator(x,y,r) for (x,y) in points_array]\n",
    "    indicator_sum=sum(indicator_list)\n",
    "    return 4/n*indicator_sum"
   ]
  },
  {
   "cell_type": "code",
   "execution_count": null,
   "metadata": {},
   "outputs": [],
   "source": [
    "%timeit approx_pi(100)\n",
    "%timeit approx_pi(1000)\n",
    "%timeit approx_pi(10000)"
   ]
  },
  {
   "cell_type": "code",
   "execution_count": null,
   "metadata": {},
   "outputs": [],
   "source": [
    "def stats(data):\n",
    "    mean = sum(data) / len(data)\n",
    "    variance=sum((d-mean)**2 for d in data) / (len(data) - 1)\n",
    "    return mean, sqrt(variance)"
   ]
  },
  {
   "cell_type": "code",
   "execution_count": null,
   "metadata": {},
   "outputs": [],
   "source": [
    "mean, std = stats([approx_pi(1000) for _ in range(1000)])"
   ]
  },
  {
   "cell_type": "code",
   "execution_count": null,
   "metadata": {},
   "outputs": [],
   "source": [
    "std = []\n",
    "n_values = [10, 20, 50, 100, 200, 500, 1000, 2000, 5000, 10000]\n",
    "for n in n_values:\n",
    "    std.append(stats([approx_pi(n) for _ in range(1000)])[1])\n",
    "plt.scatter(n_values, std)\n",
    "plt.xlabel(\"Number of points\")\n",
    "plt.ylabel(\"Standard Deviation\")\n",
    "plt.semilogx()\n",
    "plt.semilogy()"
   ]
  },
  {
   "cell_type": "code",
   "execution_count": null,
   "metadata": {},
   "outputs": [],
   "source": []
  }
 ],
 "metadata": {
  "kernelspec": {
   "display_name": "Python 3",
   "language": "python",
   "name": "python3"
  },
  "language_info": {
   "codemirror_mode": {
    "name": "ipython",
    "version": 3
   },
   "file_extension": ".py",
   "mimetype": "text/x-python",
   "name": "python",
   "nbconvert_exporter": "python",
   "pygments_lexer": "ipython3",
   "version": "3.7.0"
  }
 },
 "nbformat": 4,
 "nbformat_minor": 2
}
